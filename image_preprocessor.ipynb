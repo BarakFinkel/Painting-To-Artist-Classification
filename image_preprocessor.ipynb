{
 "cells": [
  {
   "cell_type": "markdown",
   "source": [
    "### Imports"
   ],
   "metadata": {
    "collapsed": false
   },
   "id": "97d8be83a292de5a"
  },
  {
   "cell_type": "code",
   "outputs": [],
   "source": [
    "import numpy as np\n",
    "import matplotlib.pyplot as plt\n",
    "import glob\n",
    "import cv2\n",
    "import os\n",
    "import seaborn as sns\n",
    "import pandas as pd\n",
    "from skimage.filters import sobel\n",
    "import shutil\n",
    "import random\n",
    "import warnings"
   ],
   "metadata": {
    "collapsed": false,
    "ExecuteTime": {
     "end_time": "2024-03-09T10:59:47.972380Z",
     "start_time": "2024-03-09T10:59:47.963376Z"
    }
   },
   "id": "5443fa741fcdb30d",
   "execution_count": 47
  },
  {
   "cell_type": "markdown",
   "source": [
    "### Paths\n",
    "After downloading the files from the link: \n",
    "change the path accordingly, and leave \\painting-to-artist\\dataset or \\painting-to-artist\\workspace as is."
   ],
   "metadata": {
    "collapsed": false
   },
   "id": "e02786d19d29e6e4"
  },
  {
   "cell_type": "code",
   "outputs": [],
   "source": [
    "dataset_path = os.path.abspath(r'D:\\Program Files (x86)\\painting-to-artist\\dataset')\n",
    "training_path = os.path.abspath(r'D:\\Program Files (x86)\\painting-to-artist\\workspace\\train')\n",
    "testing_path = os.path.abspath(os.path.join(r'D:\\Program Files (x86)\\painting-to-artist\\workspace\\test'))"
   ],
   "metadata": {
    "collapsed": false,
    "ExecuteTime": {
     "end_time": "2024-03-09T11:23:45.303102Z",
     "start_time": "2024-03-09T11:23:45.286124Z"
    }
   },
   "id": "45026e8cb9f07cb0",
   "execution_count": 81
  },
  {
   "cell_type": "code",
   "outputs": [],
   "source": [
    "def sample_images(data_path, train_path, test_path, n, ratio=0.8):\n",
    "    \n",
    "    if ratio >= 1 or ratio <= 0:\n",
    "        raise ValueError(\"The ratio should be between 0 and 1 (non-inclusive)\")\n",
    "    \n",
    "    if ratio < 0.5:\n",
    "        warnings.warn(\"The ratio is less than 0.5, not advised for good training\")\n",
    "    \n",
    "    artists = os.listdir(data_path) # list of artists\n",
    "    \n",
    "    for artist in artists:\n",
    "        artist_path = os.path.join(data_path, artist)  # path to the artist\n",
    "        images = os.listdir(artist_path)               # list of images\n",
    "        random.shuffle(images)                         # shuffle the images inside the images list\n",
    "\n",
    "        ## Adjust the number of images based on availability\n",
    "        n_train = min(int(n * ratio), int(len(images) * ratio))  # 80% of the images\n",
    "        n_test = min(n-n_train, len(images) - n_train)           # 20% of the images\n",
    "\n",
    "        ## Partition the images to training and testing\n",
    "        train_images = images[:n_train]\n",
    "        test_images = images[n_train:n_train + n_test]\n",
    "\n",
    "        ## Create the directories for training and testing\n",
    "        artist_train_path = os.path.join(train_path, artist)\n",
    "        artist_test_path = os.path.join(test_path, artist)\n",
    "        os.makedirs(artist_train_path, exist_ok=True)\n",
    "        os.makedirs(artist_test_path, exist_ok=True)\n",
    "\n",
    "        # Create the directories\n",
    "        for image in train_images:\n",
    "            image_path = os.path.join(artist_path, image)\n",
    "            shutil.copy(image_path, os.path.join(artist_train_path, image))\n",
    "\n",
    "        for image in test_images:\n",
    "            image_path = os.path.join(artist_path, image)\n",
    "            shutil.copy(image_path, os.path.join(artist_test_path, image))"
   ],
   "metadata": {
    "collapsed": false,
    "ExecuteTime": {
     "end_time": "2024-03-09T11:23:45.919937Z",
     "start_time": "2024-03-09T11:23:45.896002Z"
    }
   },
   "id": "56259192f7a96cd2",
   "execution_count": 82
  },
  {
   "cell_type": "code",
   "outputs": [],
   "source": [
    "def clear_files(directory):\n",
    "    \"\"\"\n",
    "    Clears all files within the subdirectories of the given directory.\n",
    "    \"\"\"\n",
    "    for root, dirs, files in os.walk(directory):\n",
    "        for file in files:\n",
    "            file_path = os.path.join(root, file)\n",
    "            os.remove(file_path)"
   ],
   "metadata": {
    "collapsed": false,
    "ExecuteTime": {
     "end_time": "2024-03-09T11:29:33.358084Z",
     "start_time": "2024-03-09T11:29:33.343125Z"
    }
   },
   "id": "d11b748bda36074a",
   "execution_count": 85
  },
  {
   "cell_type": "markdown",
   "source": [
    "### Sampling the Images to Training and Testing"
   ],
   "metadata": {
    "collapsed": false
   },
   "id": "5e953eb34e52ec45"
  },
  {
   "cell_type": "code",
   "outputs": [],
   "source": [
    "sample_images(dataset_path, training_path, testing_path, 40, 0.8)"
   ],
   "metadata": {
    "collapsed": false,
    "ExecuteTime": {
     "end_time": "2024-03-09T11:24:16.692944Z",
     "start_time": "2024-03-09T11:23:47.210999Z"
    }
   },
   "id": "2fc632a18605406c",
   "execution_count": 84
  },
  {
   "cell_type": "code",
   "outputs": [],
   "source": [
    "clear_files(training_path)\n",
    "clear_files(testing_path)"
   ],
   "metadata": {
    "collapsed": false,
    "ExecuteTime": {
     "end_time": "2024-03-09T11:29:36.072495Z",
     "start_time": "2024-03-09T11:29:35.489061Z"
    }
   },
   "id": "1d0bd44c56e4884f",
   "execution_count": 86
  },
  {
   "cell_type": "code",
   "outputs": [],
   "source": [],
   "metadata": {
    "collapsed": false
   },
   "id": "dfee0bf8d00f8533"
  }
 ],
 "metadata": {
  "kernelspec": {
   "display_name": "Python 3",
   "language": "python",
   "name": "python3"
  },
  "language_info": {
   "codemirror_mode": {
    "name": "ipython",
    "version": 2
   },
   "file_extension": ".py",
   "mimetype": "text/x-python",
   "name": "python",
   "nbconvert_exporter": "python",
   "pygments_lexer": "ipython2",
   "version": "2.7.6"
  }
 },
 "nbformat": 4,
 "nbformat_minor": 5
}
