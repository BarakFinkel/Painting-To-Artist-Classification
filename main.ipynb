{
 "cells": [
  {
   "cell_type": "code",
   "execution_count": 2,
   "id": "initial_id",
   "metadata": {
    "collapsed": true,
    "ExecuteTime": {
     "end_time": "2024-03-17T22:36:24.341160Z",
     "start_time": "2024-03-17T22:36:22.751139Z"
    }
   },
   "outputs": [],
   "source": [
    "import os\n",
    "from sklearn.model_selection import GridSearchCV\n",
    "from sklearn.ensemble import RandomForestClassifier\n",
    "from sklearn.svm import SVC\n",
    "import preprocessor as prp"
   ]
  },
  {
   "cell_type": "code",
   "outputs": [],
   "source": [
    "dataset_path = os.path.abspath(r'D:\\Program Files (x86)\\painting-to-artist\\medium_dataset')\n",
    "\n",
    "n = 100\n",
    "ratio = 0.8\n",
    "size = 64\n",
    "pca_components_threshold = 0.95\n",
    "\n",
    "x_train, x_test, y_train, y_test, le = prp.preprocess_data(dataset_path, n, ratio, size, pca_components_threshold, 'minmax')"
   ],
   "metadata": {
    "collapsed": false,
    "ExecuteTime": {
     "end_time": "2024-03-17T22:39:15.462444Z",
     "start_time": "2024-03-17T22:38:14.170685Z"
    }
   },
   "id": "4252593350c50b62",
   "execution_count": 9
  },
  {
   "cell_type": "code",
   "outputs": [],
   "source": [
    "model_iterations = 100"
   ],
   "metadata": {
    "collapsed": false,
    "ExecuteTime": {
     "end_time": "2024-03-17T22:46:26.334643Z",
     "start_time": "2024-03-17T22:46:26.325667Z"
    }
   },
   "id": "f5946cb552353d0c",
   "execution_count": 13
  },
  {
   "cell_type": "markdown",
   "source": [
    "# Random Forest Model"
   ],
   "metadata": {
    "collapsed": false
   },
   "id": "f97f65317e912410"
  },
  {
   "cell_type": "code",
   "outputs": [
    {
     "name": "stdout",
     "output_type": "stream",
     "text": [
      "** Best RF Accuracy: ** 0.252290\n",
      "**  Best RF Params:  ** {'max_depth': 10, 'min_samples_leaf': 3, 'min_samples_split': 5, 'n_estimators': 8}\n"
     ]
    }
   ],
   "source": [
    "rf_hyperparameters = {\n",
    "    'n_estimators': [4, 6, 8],\n",
    "    'max_depth': [None, 10, 20],\n",
    "    'min_samples_split': [2, 5, 8],\n",
    "    'min_samples_leaf': [1, 2, 3]\n",
    "}\n",
    "\n",
    "rf_model = RandomForestClassifier()\n",
    "rf_grid_search = GridSearchCV(estimator=rf_model, param_grid=rf_hyperparameters, cv=5, scoring='accuracy', n_jobs=3)\n",
    "rf_grid_search.fit(x_train, y_train)\n",
    "\n",
    "print(\"** Best RF Accuracy: ** {:.6f}\".format(rf_grid_search.best_score_))\n",
    "print(\"**  Best RF Params:  ** {}\".format(rf_grid_search.best_params_))"
   ],
   "metadata": {
    "collapsed": false,
    "ExecuteTime": {
     "end_time": "2024-03-17T22:40:38.258835Z",
     "start_time": "2024-03-17T22:39:15.463442Z"
    }
   },
   "id": "c1cc855f1bb6b660",
   "execution_count": 10
  },
  {
   "cell_type": "code",
   "outputs": [
    {
     "name": "stdout",
     "output_type": "stream",
     "text": [
      "Overall best: Empirical Accuracy: 0.912152, True Accuracy: 0.242746\n"
     ]
    }
   ],
   "source": [
    "average_empirical_accuracy = 0\n",
    "average_true_accuracy = 0\n",
    "\n",
    "for i in range(model_iterations):\n",
    "    rf_model = RandomForestClassifier(n_estimators=rf_grid_search.best_params_['n_estimators'],\n",
    "                                      max_depth=rf_grid_search.best_params_['max_depth'],\n",
    "                                      min_samples_split=rf_grid_search.best_params_['min_samples_split'],\n",
    "                                      min_samples_leaf=rf_grid_search.best_params_['min_samples_leaf'])\n",
    "    rf_model.fit(x_train, y_train)\n",
    "    average_empirical_accuracy += rf_model.score(x_train, y_train)\n",
    "    average_true_accuracy += rf_model.score(x_test, y_test)\n",
    "\n",
    "average_empirical_accuracy /= model_iterations\n",
    "average_true_accuracy /= model_iterations\n",
    "   \n",
    "print(\"Overall best: Empirical Accuracy: {:.6f}, True Accuracy: {:.6f}\".format(average_empirical_accuracy, average_true_accuracy))"
   ],
   "metadata": {
    "collapsed": false,
    "ExecuteTime": {
     "end_time": "2024-03-17T22:50:25.037207Z",
     "start_time": "2024-03-17T22:48:59.252057Z"
    }
   },
   "id": "b2e6779ec360d380",
   "execution_count": 15
  },
  {
   "cell_type": "markdown",
   "source": [
    "# SVM Model"
   ],
   "metadata": {
    "collapsed": false
   },
   "id": "fa932ce88b8dee6"
  },
  {
   "cell_type": "code",
   "outputs": [
    {
     "name": "stdout",
     "output_type": "stream",
     "text": [
      "** Best SVM Accuracy: ** 0.51\n",
      "**  Best SVM Params:  ** {'C': 10, 'gamma': 'scale', 'kernel': 'rbf'}\n"
     ]
    }
   ],
   "source": [
    "svm_hyperparameters = {\n",
    "    'C': [0.1, 1, 10],\n",
    "    'kernel': ['linear', 'rbf'],\n",
    "    'gamma': ['scale', 'auto']\n",
    "}\n",
    "\n",
    "svm_model = SVC()\n",
    "svm_grid_search = GridSearchCV(estimator=svm_model, param_grid=svm_hyperparameters, cv=5, scoring='accuracy', n_jobs=3)\n",
    "svm_grid_search.fit(x_train, y_train)\n",
    "\n",
    "print(\"** Best SVM Accuracy: ** {:.2f}\".format(svm_grid_search.best_score_))\n",
    "print(\"**  Best SVM Params:  ** {}\".format(svm_grid_search.best_params_))"
   ],
   "metadata": {
    "collapsed": false,
    "ExecuteTime": {
     "end_time": "2024-03-17T22:41:58.960504Z",
     "start_time": "2024-03-17T22:40:38.259842Z"
    }
   },
   "id": "e0bb61a336250eec",
   "execution_count": 11
  },
  {
   "cell_type": "code",
   "outputs": [
    {
     "name": "stdout",
     "output_type": "stream",
     "text": [
      "Overall best: Empirical Accuracy: 1.000000, True Accuracy: 0.514085\n"
     ]
    }
   ],
   "source": [
    "average_empirical_accuracy = 0\n",
    "average_true_accuracy = 0\n",
    "\n",
    "for i in range(model_iterations):\n",
    "    svm_model = SVC(C=svm_grid_search.best_params_['C'],\n",
    "                    kernel=svm_grid_search.best_params_['kernel'],\n",
    "                    gamma=svm_grid_search.best_params_['gamma'])\n",
    "    svm_model.fit(x_train, y_train)\n",
    "    average_empirical_accuracy += svm_model.score(x_train, y_train)\n",
    "    average_true_accuracy += svm_model.score(x_test, y_test)\n",
    "    \n",
    "average_empirical_accuracy /= model_iterations\n",
    "average_true_accuracy /= model_iterations\n",
    "\n",
    "print(\"Overall best: Empirical Accuracy: {:.6f}, True Accuracy: {:.6f}\".format(average_empirical_accuracy, average_true_accuracy))"
   ],
   "metadata": {
    "collapsed": false,
    "ExecuteTime": {
     "end_time": "2024-03-17T23:01:41.828942Z",
     "start_time": "2024-03-17T22:51:05.607420Z"
    }
   },
   "id": "bc340465116a6666",
   "execution_count": 16
  },
  {
   "cell_type": "code",
   "outputs": [],
   "source": [],
   "metadata": {
    "collapsed": false
   },
   "id": "baf9eda68223d4e9"
  }
 ],
 "metadata": {
  "kernelspec": {
   "display_name": "Python 3",
   "language": "python",
   "name": "python3"
  },
  "language_info": {
   "codemirror_mode": {
    "name": "ipython",
    "version": 2
   },
   "file_extension": ".py",
   "mimetype": "text/x-python",
   "name": "python",
   "nbconvert_exporter": "python",
   "pygments_lexer": "ipython2",
   "version": "2.7.6"
  }
 },
 "nbformat": 4,
 "nbformat_minor": 5
}
