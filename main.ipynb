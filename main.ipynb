{
 "cells": [
  {
   "cell_type": "code",
   "execution_count": 6,
   "id": "initial_id",
   "metadata": {
    "collapsed": true,
    "ExecuteTime": {
     "end_time": "2024-03-17T14:21:10.140496Z",
     "start_time": "2024-03-17T14:21:10.134512Z"
    }
   },
   "outputs": [],
   "source": [
    "import os\n",
    "from sklearn.model_selection import ParameterGrid\n",
    "from sklearn.model_selection import GridSearchCV\n",
    "from sklearn.ensemble import RandomForestClassifier\n",
    "from sklearn.svm import SVC\n",
    "import random\n",
    "import preprocessor as prp"
   ]
  },
  {
   "cell_type": "code",
   "outputs": [],
   "source": [
    "dataset_path = os.path.abspath(r'D:\\Program Files (x86)\\painting-to-artist\\medium_dataset')\n",
    "\n",
    "n = 70\n",
    "ratio = 0.8\n",
    "size = 128\n",
    "pca_components_threshold = 0.95\n",
    "\n",
    "x_train, x_test, y_train, y_test, le = prp.preprocess_data(dataset_path, n, ratio, size, pca_components_threshold)"
   ],
   "metadata": {
    "collapsed": false,
    "ExecuteTime": {
     "end_time": "2024-03-17T14:27:19.532023Z",
     "start_time": "2024-03-17T14:21:11.618770Z"
    }
   },
   "id": "4252593350c50b62",
   "execution_count": 7
  },
  {
   "cell_type": "code",
   "outputs": [],
   "source": [
    "model_iterations = 10"
   ],
   "metadata": {
    "collapsed": false,
    "ExecuteTime": {
     "end_time": "2024-03-17T14:29:02.937628Z",
     "start_time": "2024-03-17T14:29:02.930646Z"
    }
   },
   "id": "f5946cb552353d0c",
   "execution_count": 8
  },
  {
   "cell_type": "code",
   "outputs": [
    {
     "name": "stdout",
     "output_type": "stream",
     "text": [
      "RF Model: Parameters - {'max_depth': None, 'min_samples_leaf': 1, 'min_samples_split': 2, 'n_estimators': 4}\n",
      " Average over 10 iterations - Empirical Accuracy: 0.897222, True Accuracy: 0.226471\n",
      "RF Model: Parameters - {'max_depth': None, 'min_samples_leaf': 1, 'min_samples_split': 2, 'n_estimators': 6}\n",
      " Average over 10 iterations - Empirical Accuracy: 0.955370, True Accuracy: 0.241912\n",
      "RF Model: Parameters - {'max_depth': None, 'min_samples_leaf': 1, 'min_samples_split': 2, 'n_estimators': 8}\n",
      " Average over 10 iterations - Empirical Accuracy: 0.981296, True Accuracy: 0.247059\n",
      "RF Model: Parameters - {'max_depth': None, 'min_samples_leaf': 1, 'min_samples_split': 5, 'n_estimators': 4}\n",
      " Average over 10 iterations - Empirical Accuracy: 0.862222, True Accuracy: 0.219118\n",
      "RF Model: Parameters - {'max_depth': None, 'min_samples_leaf': 1, 'min_samples_split': 5, 'n_estimators': 6}\n",
      " Average over 10 iterations - Empirical Accuracy: 0.934259, True Accuracy: 0.253676\n",
      "RF Model: Parameters - {'max_depth': None, 'min_samples_leaf': 1, 'min_samples_split': 5, 'n_estimators': 8}\n",
      " Average over 10 iterations - Empirical Accuracy: 0.958889, True Accuracy: 0.248529\n",
      "RF Model: Parameters - {'max_depth': None, 'min_samples_leaf': 1, 'min_samples_split': 8, 'n_estimators': 4}\n",
      " Average over 10 iterations - Empirical Accuracy: 0.820185, True Accuracy: 0.231618\n",
      "RF Model: Parameters - {'max_depth': None, 'min_samples_leaf': 1, 'min_samples_split': 8, 'n_estimators': 6}\n",
      " Average over 10 iterations - Empirical Accuracy: 0.890926, True Accuracy: 0.237500\n",
      "RF Model: Parameters - {'max_depth': None, 'min_samples_leaf': 1, 'min_samples_split': 8, 'n_estimators': 8}\n",
      " Average over 10 iterations - Empirical Accuracy: 0.924630, True Accuracy: 0.258088\n",
      "RF Model: Parameters - {'max_depth': None, 'min_samples_leaf': 2, 'min_samples_split': 2, 'n_estimators': 4}\n",
      " Average over 10 iterations - Empirical Accuracy: 0.863333, True Accuracy: 0.216912\n",
      "RF Model: Parameters - {'max_depth': None, 'min_samples_leaf': 2, 'min_samples_split': 2, 'n_estimators': 6}\n",
      " Average over 10 iterations - Empirical Accuracy: 0.932222, True Accuracy: 0.238971\n",
      "RF Model: Parameters - {'max_depth': None, 'min_samples_leaf': 2, 'min_samples_split': 2, 'n_estimators': 8}\n",
      " Average over 10 iterations - Empirical Accuracy: 0.961111, True Accuracy: 0.256618\n",
      "RF Model: Parameters - {'max_depth': None, 'min_samples_leaf': 2, 'min_samples_split': 5, 'n_estimators': 4}\n",
      " Average over 10 iterations - Empirical Accuracy: 0.859074, True Accuracy: 0.249265\n",
      "RF Model: Parameters - {'max_depth': None, 'min_samples_leaf': 2, 'min_samples_split': 5, 'n_estimators': 6}\n",
      " Average over 10 iterations - Empirical Accuracy: 0.918333, True Accuracy: 0.255147\n",
      "RF Model: Parameters - {'max_depth': None, 'min_samples_leaf': 2, 'min_samples_split': 5, 'n_estimators': 8}\n",
      " Average over 10 iterations - Empirical Accuracy: 0.952778, True Accuracy: 0.273529\n",
      "RF Model: Parameters - {'max_depth': None, 'min_samples_leaf': 2, 'min_samples_split': 8, 'n_estimators': 4}\n",
      " Average over 10 iterations - Empirical Accuracy: 0.812778, True Accuracy: 0.257353\n",
      "RF Model: Parameters - {'max_depth': None, 'min_samples_leaf': 2, 'min_samples_split': 8, 'n_estimators': 6}\n",
      " Average over 10 iterations - Empirical Accuracy: 0.878333, True Accuracy: 0.252941\n",
      "RF Model: Parameters - {'max_depth': None, 'min_samples_leaf': 2, 'min_samples_split': 8, 'n_estimators': 8}\n",
      " Average over 10 iterations - Empirical Accuracy: 0.927407, True Accuracy: 0.265441\n",
      "RF Model: Parameters - {'max_depth': None, 'min_samples_leaf': 3, 'min_samples_split': 2, 'n_estimators': 4}\n",
      " Average over 10 iterations - Empirical Accuracy: 0.806111, True Accuracy: 0.244853\n",
      "RF Model: Parameters - {'max_depth': None, 'min_samples_leaf': 3, 'min_samples_split': 2, 'n_estimators': 6}\n",
      " Average over 10 iterations - Empirical Accuracy: 0.890370, True Accuracy: 0.261029\n",
      "RF Model: Parameters - {'max_depth': None, 'min_samples_leaf': 3, 'min_samples_split': 2, 'n_estimators': 8}\n",
      " Average over 10 iterations - Empirical Accuracy: 0.924444, True Accuracy: 0.244853\n",
      "RF Model: Parameters - {'max_depth': None, 'min_samples_leaf': 3, 'min_samples_split': 5, 'n_estimators': 4}\n",
      " Average over 10 iterations - Empirical Accuracy: 0.814259, True Accuracy: 0.230882\n",
      "RF Model: Parameters - {'max_depth': None, 'min_samples_leaf': 3, 'min_samples_split': 5, 'n_estimators': 6}\n",
      " Average over 10 iterations - Empirical Accuracy: 0.885741, True Accuracy: 0.262500\n",
      "RF Model: Parameters - {'max_depth': None, 'min_samples_leaf': 3, 'min_samples_split': 5, 'n_estimators': 8}\n",
      " Average over 10 iterations - Empirical Accuracy: 0.926296, True Accuracy: 0.266176\n",
      "RF Model: Parameters - {'max_depth': None, 'min_samples_leaf': 3, 'min_samples_split': 8, 'n_estimators': 4}\n",
      " Average over 10 iterations - Empirical Accuracy: 0.791296, True Accuracy: 0.216176\n",
      "RF Model: Parameters - {'max_depth': None, 'min_samples_leaf': 3, 'min_samples_split': 8, 'n_estimators': 6}\n",
      " Average over 10 iterations - Empirical Accuracy: 0.862963, True Accuracy: 0.243382\n",
      "RF Model: Parameters - {'max_depth': None, 'min_samples_leaf': 3, 'min_samples_split': 8, 'n_estimators': 8}\n",
      " Average over 10 iterations - Empirical Accuracy: 0.912778, True Accuracy: 0.252206\n",
      "RF Model: Parameters - {'max_depth': 10, 'min_samples_leaf': 1, 'min_samples_split': 2, 'n_estimators': 4}\n",
      " Average over 10 iterations - Empirical Accuracy: 0.809630, True Accuracy: 0.201471\n",
      "RF Model: Parameters - {'max_depth': 10, 'min_samples_leaf': 1, 'min_samples_split': 2, 'n_estimators': 6}\n",
      " Average over 10 iterations - Empirical Accuracy: 0.907963, True Accuracy: 0.227941\n",
      "RF Model: Parameters - {'max_depth': 10, 'min_samples_leaf': 1, 'min_samples_split': 2, 'n_estimators': 8}\n",
      " Average over 10 iterations - Empirical Accuracy: 0.934074, True Accuracy: 0.262500\n",
      "RF Model: Parameters - {'max_depth': 10, 'min_samples_leaf': 1, 'min_samples_split': 5, 'n_estimators': 4}\n",
      " Average over 10 iterations - Empirical Accuracy: 0.795926, True Accuracy: 0.202941\n",
      "RF Model: Parameters - {'max_depth': 10, 'min_samples_leaf': 1, 'min_samples_split': 5, 'n_estimators': 6}\n",
      " Average over 10 iterations - Empirical Accuracy: 0.862963, True Accuracy: 0.249265\n",
      "RF Model: Parameters - {'max_depth': 10, 'min_samples_leaf': 1, 'min_samples_split': 5, 'n_estimators': 8}\n",
      " Average over 10 iterations - Empirical Accuracy: 0.910000, True Accuracy: 0.250735\n",
      "RF Model: Parameters - {'max_depth': 10, 'min_samples_leaf': 1, 'min_samples_split': 8, 'n_estimators': 4}\n",
      " Average over 10 iterations - Empirical Accuracy: 0.756667, True Accuracy: 0.214706\n",
      "RF Model: Parameters - {'max_depth': 10, 'min_samples_leaf': 1, 'min_samples_split': 8, 'n_estimators': 6}\n",
      " Average over 10 iterations - Empirical Accuracy: 0.832407, True Accuracy: 0.235294\n",
      "RF Model: Parameters - {'max_depth': 10, 'min_samples_leaf': 1, 'min_samples_split': 8, 'n_estimators': 8}\n",
      " Average over 10 iterations - Empirical Accuracy: 0.877037, True Accuracy: 0.272794\n",
      "RF Model: Parameters - {'max_depth': 10, 'min_samples_leaf': 2, 'min_samples_split': 2, 'n_estimators': 4}\n",
      " Average over 10 iterations - Empirical Accuracy: 0.798704, True Accuracy: 0.227941\n",
      "RF Model: Parameters - {'max_depth': 10, 'min_samples_leaf': 2, 'min_samples_split': 2, 'n_estimators': 6}\n",
      " Average over 10 iterations - Empirical Accuracy: 0.887778, True Accuracy: 0.244853\n",
      "RF Model: Parameters - {'max_depth': 10, 'min_samples_leaf': 2, 'min_samples_split': 2, 'n_estimators': 8}\n",
      " Average over 10 iterations - Empirical Accuracy: 0.909074, True Accuracy: 0.255147\n",
      "RF Model: Parameters - {'max_depth': 10, 'min_samples_leaf': 2, 'min_samples_split': 5, 'n_estimators': 4}\n",
      " Average over 10 iterations - Empirical Accuracy: 0.774630, True Accuracy: 0.219853\n",
      "RF Model: Parameters - {'max_depth': 10, 'min_samples_leaf': 2, 'min_samples_split': 5, 'n_estimators': 6}\n",
      " Average over 10 iterations - Empirical Accuracy: 0.860370, True Accuracy: 0.225000\n",
      "RF Model: Parameters - {'max_depth': 10, 'min_samples_leaf': 2, 'min_samples_split': 5, 'n_estimators': 8}\n",
      " Average over 10 iterations - Empirical Accuracy: 0.909074, True Accuracy: 0.275735\n",
      "RF Model: Parameters - {'max_depth': 10, 'min_samples_leaf': 2, 'min_samples_split': 8, 'n_estimators': 4}\n",
      " Average over 10 iterations - Empirical Accuracy: 0.744630, True Accuracy: 0.225735\n",
      "RF Model: Parameters - {'max_depth': 10, 'min_samples_leaf': 2, 'min_samples_split': 8, 'n_estimators': 6}\n",
      " Average over 10 iterations - Empirical Accuracy: 0.817222, True Accuracy: 0.260294\n",
      "RF Model: Parameters - {'max_depth': 10, 'min_samples_leaf': 2, 'min_samples_split': 8, 'n_estimators': 8}\n",
      " Average over 10 iterations - Empirical Accuracy: 0.872778, True Accuracy: 0.252941\n",
      "RF Model: Parameters - {'max_depth': 10, 'min_samples_leaf': 3, 'min_samples_split': 2, 'n_estimators': 4}\n",
      " Average over 10 iterations - Empirical Accuracy: 0.758148, True Accuracy: 0.233824\n",
      "RF Model: Parameters - {'max_depth': 10, 'min_samples_leaf': 3, 'min_samples_split': 2, 'n_estimators': 6}\n",
      " Average over 10 iterations - Empirical Accuracy: 0.828704, True Accuracy: 0.236765\n",
      "RF Model: Parameters - {'max_depth': 10, 'min_samples_leaf': 3, 'min_samples_split': 2, 'n_estimators': 8}\n",
      " Average over 10 iterations - Empirical Accuracy: 0.881667, True Accuracy: 0.267647\n",
      "RF Model: Parameters - {'max_depth': 10, 'min_samples_leaf': 3, 'min_samples_split': 5, 'n_estimators': 4}\n",
      " Average over 10 iterations - Empirical Accuracy: 0.752037, True Accuracy: 0.220588\n",
      "RF Model: Parameters - {'max_depth': 10, 'min_samples_leaf': 3, 'min_samples_split': 5, 'n_estimators': 6}\n",
      " Average over 10 iterations - Empirical Accuracy: 0.838333, True Accuracy: 0.258824\n",
      "RF Model: Parameters - {'max_depth': 10, 'min_samples_leaf': 3, 'min_samples_split': 5, 'n_estimators': 8}\n",
      " Average over 10 iterations - Empirical Accuracy: 0.876667, True Accuracy: 0.257353\n",
      "RF Model: Parameters - {'max_depth': 10, 'min_samples_leaf': 3, 'min_samples_split': 8, 'n_estimators': 4}\n",
      " Average over 10 iterations - Empirical Accuracy: 0.733333, True Accuracy: 0.232353\n",
      "RF Model: Parameters - {'max_depth': 10, 'min_samples_leaf': 3, 'min_samples_split': 8, 'n_estimators': 6}\n",
      " Average over 10 iterations - Empirical Accuracy: 0.811111, True Accuracy: 0.269118\n",
      "RF Model: Parameters - {'max_depth': 10, 'min_samples_leaf': 3, 'min_samples_split': 8, 'n_estimators': 8}\n",
      " Average over 10 iterations - Empirical Accuracy: 0.858519, True Accuracy: 0.255147\n",
      "RF Model: Parameters - {'max_depth': 20, 'min_samples_leaf': 1, 'min_samples_split': 2, 'n_estimators': 4}\n",
      " Average over 10 iterations - Empirical Accuracy: 0.900185, True Accuracy: 0.235294\n",
      "RF Model: Parameters - {'max_depth': 20, 'min_samples_leaf': 1, 'min_samples_split': 2, 'n_estimators': 6}\n",
      " Average over 10 iterations - Empirical Accuracy: 0.958519, True Accuracy: 0.231618\n",
      "RF Model: Parameters - {'max_depth': 20, 'min_samples_leaf': 1, 'min_samples_split': 2, 'n_estimators': 8}\n",
      " Average over 10 iterations - Empirical Accuracy: 0.983333, True Accuracy: 0.254412\n",
      "RF Model: Parameters - {'max_depth': 20, 'min_samples_leaf': 1, 'min_samples_split': 5, 'n_estimators': 4}\n",
      " Average over 10 iterations - Empirical Accuracy: 0.867963, True Accuracy: 0.222794\n",
      "RF Model: Parameters - {'max_depth': 20, 'min_samples_leaf': 1, 'min_samples_split': 5, 'n_estimators': 6}\n",
      " Average over 10 iterations - Empirical Accuracy: 0.932778, True Accuracy: 0.246324\n",
      "RF Model: Parameters - {'max_depth': 20, 'min_samples_leaf': 1, 'min_samples_split': 5, 'n_estimators': 8}\n",
      " Average over 10 iterations - Empirical Accuracy: 0.960741, True Accuracy: 0.249265\n",
      "RF Model: Parameters - {'max_depth': 20, 'min_samples_leaf': 1, 'min_samples_split': 8, 'n_estimators': 4}\n",
      " Average over 10 iterations - Empirical Accuracy: 0.822407, True Accuracy: 0.225735\n",
      "RF Model: Parameters - {'max_depth': 20, 'min_samples_leaf': 1, 'min_samples_split': 8, 'n_estimators': 6}\n",
      " Average over 10 iterations - Empirical Accuracy: 0.887407, True Accuracy: 0.241176\n",
      "RF Model: Parameters - {'max_depth': 20, 'min_samples_leaf': 1, 'min_samples_split': 8, 'n_estimators': 8}\n",
      " Average over 10 iterations - Empirical Accuracy: 0.932407, True Accuracy: 0.252941\n",
      "RF Model: Parameters - {'max_depth': 20, 'min_samples_leaf': 2, 'min_samples_split': 2, 'n_estimators': 4}\n",
      " Average over 10 iterations - Empirical Accuracy: 0.870000, True Accuracy: 0.212500\n",
      "RF Model: Parameters - {'max_depth': 20, 'min_samples_leaf': 2, 'min_samples_split': 2, 'n_estimators': 6}\n",
      " Average over 10 iterations - Empirical Accuracy: 0.935185, True Accuracy: 0.228676\n",
      "RF Model: Parameters - {'max_depth': 20, 'min_samples_leaf': 2, 'min_samples_split': 2, 'n_estimators': 8}\n",
      " Average over 10 iterations - Empirical Accuracy: 0.962037, True Accuracy: 0.261029\n",
      "RF Model: Parameters - {'max_depth': 20, 'min_samples_leaf': 2, 'min_samples_split': 5, 'n_estimators': 4}\n",
      " Average over 10 iterations - Empirical Accuracy: 0.845000, True Accuracy: 0.236765\n",
      "RF Model: Parameters - {'max_depth': 20, 'min_samples_leaf': 2, 'min_samples_split': 5, 'n_estimators': 6}\n",
      " Average over 10 iterations - Empirical Accuracy: 0.915556, True Accuracy: 0.241176\n",
      "RF Model: Parameters - {'max_depth': 20, 'min_samples_leaf': 2, 'min_samples_split': 5, 'n_estimators': 8}\n",
      " Average over 10 iterations - Empirical Accuracy: 0.954815, True Accuracy: 0.277941\n",
      "RF Model: Parameters - {'max_depth': 20, 'min_samples_leaf': 2, 'min_samples_split': 8, 'n_estimators': 4}\n",
      " Average over 10 iterations - Empirical Accuracy: 0.814815, True Accuracy: 0.223529\n",
      "RF Model: Parameters - {'max_depth': 20, 'min_samples_leaf': 2, 'min_samples_split': 8, 'n_estimators': 6}\n",
      " Average over 10 iterations - Empirical Accuracy: 0.880370, True Accuracy: 0.245588\n",
      "RF Model: Parameters - {'max_depth': 20, 'min_samples_leaf': 2, 'min_samples_split': 8, 'n_estimators': 8}\n",
      " Average over 10 iterations - Empirical Accuracy: 0.917407, True Accuracy: 0.280882\n",
      "RF Model: Parameters - {'max_depth': 20, 'min_samples_leaf': 3, 'min_samples_split': 2, 'n_estimators': 4}\n",
      " Average over 10 iterations - Empirical Accuracy: 0.816667, True Accuracy: 0.230147\n",
      "RF Model: Parameters - {'max_depth': 20, 'min_samples_leaf': 3, 'min_samples_split': 2, 'n_estimators': 6}\n",
      " Average over 10 iterations - Empirical Accuracy: 0.884630, True Accuracy: 0.244853\n",
      "RF Model: Parameters - {'max_depth': 20, 'min_samples_leaf': 3, 'min_samples_split': 2, 'n_estimators': 8}\n",
      " Average over 10 iterations - Empirical Accuracy: 0.932222, True Accuracy: 0.261765\n",
      "RF Model: Parameters - {'max_depth': 20, 'min_samples_leaf': 3, 'min_samples_split': 5, 'n_estimators': 4}\n",
      " Average over 10 iterations - Empirical Accuracy: 0.812037, True Accuracy: 0.227206\n",
      "RF Model: Parameters - {'max_depth': 20, 'min_samples_leaf': 3, 'min_samples_split': 5, 'n_estimators': 6}\n",
      " Average over 10 iterations - Empirical Accuracy: 0.887407, True Accuracy: 0.245588\n",
      "RF Model: Parameters - {'max_depth': 20, 'min_samples_leaf': 3, 'min_samples_split': 5, 'n_estimators': 8}\n",
      " Average over 10 iterations - Empirical Accuracy: 0.922222, True Accuracy: 0.276471\n",
      "RF Model: Parameters - {'max_depth': 20, 'min_samples_leaf': 3, 'min_samples_split': 8, 'n_estimators': 4}\n",
      " Average over 10 iterations - Empirical Accuracy: 0.792037, True Accuracy: 0.234559\n",
      "RF Model: Parameters - {'max_depth': 20, 'min_samples_leaf': 3, 'min_samples_split': 8, 'n_estimators': 6}\n",
      " Average over 10 iterations - Empirical Accuracy: 0.875741, True Accuracy: 0.245588\n",
      "RF Model: Parameters - {'max_depth': 20, 'min_samples_leaf': 3, 'min_samples_split': 8, 'n_estimators': 8}\n",
      " Average over 10 iterations - Empirical Accuracy: 0.910000, True Accuracy: 0.263235\n",
      "\n",
      "BEST RF Model: Parameters - {'max_depth': 20, 'min_samples_leaf': 2, 'min_samples_split': 8, 'n_estimators': 8}\n",
      " Average over 10 iterations - Accuracy: 0.280882\n"
     ]
    }
   ],
   "source": [
    "rf_hyperparameters = {\n",
    "    'n_estimators': [4, 6, 8],\n",
    "    'max_depth': [None, 10, 20],\n",
    "    'min_samples_split': [2, 5, 8],\n",
    "    'min_samples_leaf': [1, 2, 3]\n",
    "}\n",
    "\n",
    "best_accuracy = 0\n",
    "best_params = None\n",
    "\n",
    "for params in ParameterGrid(rf_hyperparameters):\n",
    "    \n",
    "    average_empirical_accuracy = 0\n",
    "    average_true_accuracy = 0\n",
    "    counter = 1\n",
    "    \n",
    "    while counter <= model_iterations:\n",
    "        random_seed = random.randint(0, 9999)\n",
    "        rf_model = RandomForestClassifier(**params, random_state=random_seed)\n",
    "\n",
    "        rf_model.fit(x_train, y_train)\n",
    "        empirical_accuracy = rf_model.score(x_train, y_train)\n",
    "\n",
    "        rf_prediction = rf_model.predict(x_test)\n",
    "        true_accuracy = rf_model.score(x_test, y_test)\n",
    "\n",
    "        average_empirical_accuracy += empirical_accuracy\n",
    "        average_true_accuracy += true_accuracy\n",
    "        counter += 1\n",
    "    \n",
    "    empirical_accuracy = average_empirical_accuracy / model_iterations\n",
    "    true_accuracy = average_true_accuracy / model_iterations\n",
    "\n",
    "    print(\"RF Model: Parameters - {}\\n Average over {} iterations - Empirical Accuracy: {:.6f}, True Accuracy: {:.6f}\\n\".format(params, model_iterations, empirical_accuracy, true_accuracy))\n",
    "    \n",
    "    if true_accuracy > best_accuracy:\n",
    "        best_accuracy = true_accuracy\n",
    "        best_params = params\n",
    "        \n",
    "print(\"BEST RF Model: Parameters - {}\\n Average over {} iterations - Accuracy: {:.6f}\\n\".format(best_params, model_iterations, best_accuracy))"
   ],
   "metadata": {
    "collapsed": false,
    "ExecuteTime": {
     "end_time": "2024-03-17T14:38:17.239673Z",
     "start_time": "2024-03-17T14:29:07.383076Z"
    }
   },
   "id": "72d95f1ef99c42d4",
   "execution_count": 9
  },
  {
   "cell_type": "markdown",
   "source": [
    "# Random Forest Model"
   ],
   "metadata": {
    "collapsed": false
   },
   "id": "f97f65317e912410"
  },
  {
   "cell_type": "code",
   "outputs": [
    {
     "name": "stdout",
     "output_type": "stream",
     "text": [
      "** Best RF Accuracy: ** 0.28\n",
      "**  Best RF Params:  ** {'max_depth': 20, 'min_samples_leaf': 3, 'min_samples_split': 8, 'n_estimators': 8}\n"
     ]
    }
   ],
   "source": [
    "rf_model = RandomForestClassifier()\n",
    "rf_grid_search = GridSearchCV(estimator=rf_model, param_grid=rf_hyperparameters, cv=5, scoring='accuracy', n_jobs=3)\n",
    "rf_grid_search.fit(x_train, y_train)\n",
    "\n",
    "print(\"** Best RF Accuracy: ** {:.6f}\".format(rf_grid_search.best_score_))\n",
    "print(\"**  Best RF Params:  ** {}\".format(rf_grid_search.best_params_))"
   ],
   "metadata": {
    "collapsed": false,
    "ExecuteTime": {
     "end_time": "2024-03-17T14:56:29.426127Z",
     "start_time": "2024-03-17T14:55:21.600271Z"
    }
   },
   "id": "c1cc855f1bb6b660",
   "execution_count": 10
  },
  {
   "cell_type": "markdown",
   "source": [
    "# SVM Model"
   ],
   "metadata": {
    "collapsed": false
   },
   "id": "fa932ce88b8dee6"
  },
  {
   "cell_type": "code",
   "outputs": [],
   "source": [
    "svm_hyperparameters = {\n",
    "    'C': [0.1, 1, 10],\n",
    "    'kernel': ['linear', 'rbf'],\n",
    "    'gamma': ['scale', 'auto']\n",
    "}\n",
    "\n",
    "svm_model = SVC()\n",
    "svm_grid_search = GridSearchCV(estimator=svm_model, param_grid=svm_hyperparameters, cv=5, scoring='accuracy', n_jobs=3)\n",
    "svm_grid_search.fit(x_train, y_train)\n",
    "\n",
    "print(\"** Best SVM Accuracy: ** {:.2f}\".format(svm_grid_search.best_score_))\n",
    "print(\"**  Best SVM Params:  ** {}\".format(svm_grid_search.best_params_))"
   ],
   "metadata": {
    "collapsed": false,
    "ExecuteTime": {
     "start_time": "2024-03-16T17:22:10.572837Z"
    }
   },
   "id": "e0bb61a336250eec",
   "execution_count": null
  }
 ],
 "metadata": {
  "kernelspec": {
   "display_name": "Python 3",
   "language": "python",
   "name": "python3"
  },
  "language_info": {
   "codemirror_mode": {
    "name": "ipython",
    "version": 2
   },
   "file_extension": ".py",
   "mimetype": "text/x-python",
   "name": "python",
   "nbconvert_exporter": "python",
   "pygments_lexer": "ipython2",
   "version": "2.7.6"
  }
 },
 "nbformat": 4,
 "nbformat_minor": 5
}
